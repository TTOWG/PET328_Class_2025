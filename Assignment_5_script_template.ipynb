
nx = int(input("Enter number of columns (nx): "))
ny = int(input("Enter number of rows (ny): "))
nz = int(input("Enter number of layers (nz): "))

cutoff = float(input("Enter permeability cut-off value (mD): "))

total_active = 0
total_inactive = 0

for k in range(1, nz + 1):
    active_in_layer = 0
    print(f"\n--- Entering values for Layer {k} ---")
   
    for j in range(1, ny + 1):
        for i in range(1, nx + 1):
            prompt = f"Enter permeability for block (i={i}, j={j}, k={k}): "
            perm = float(input(prompt))
            
            if perm >= cutoff:
                total_active += 1
                active_in_layer += 1
            else:
                total_inactive += 1
    
    print(f"Layer {k} has {active_in_layer} active gridblocks.")


total_blocks = nx * ny * nz
percent_active = (total_active / total_blocks) * 100

print("\n======= Summary =======")
print(f"Total active gridblocks: {total_active}")
print(f"Total inactive gridblocks: {total_inactive}")
print(f"Percentage of active gridblocks: {percent_active:.2f}%")
